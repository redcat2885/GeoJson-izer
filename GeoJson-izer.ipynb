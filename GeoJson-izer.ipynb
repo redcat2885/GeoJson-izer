{
 "cells": [
  {
   "cell_type": "code",
   "execution_count": 5,
   "metadata": {},
   "outputs": [],
   "source": [
    "import numpy as np\n",
    "import pandas as pd\n",
    "import json\n",
    "import geojson\n",
    "from geojson import Point, Feature, FeatureCollection, dump"
   ]
  },
  {
   "cell_type": "code",
   "execution_count": 6,
   "metadata": {},
   "outputs": [
    {
     "data": {
      "text/plain": [
       "{2: 'Южно-Сахалинск',\n",
       " 21: 'Уфа',\n",
       " 24: 'Владимир',\n",
       " 23: 'Воронеж',\n",
       " 7: 'Волгоград',\n",
       " 8: 'Пермь',\n",
       " 9: 'Челябинск',\n",
       " 11: 'Красноярск',\n",
       " 13: 'Чебоксары',\n",
       " 14: 'Омск',\n",
       " 22: 'Казань',\n",
       " 1: 'Москва',\n",
       " 19: 'Кемерово',\n",
       " 31: 'Великий Новгород',\n",
       " 12: 'Ижевск',\n",
       " 18: 'Нижневартовск',\n",
       " 26: 'Пенза',\n",
       " 17: 'Якутск',\n",
       " 10: 'Санкт-Петербург',\n",
       " 16: 'Екатеринбург',\n",
       " 3: 'Тула',\n",
       " 4: 'Белгород',\n",
       " 5: 'Нижний-Новгород',\n",
       " 6: 'Самара',\n",
       " 15: 'Иркутск',\n",
       " 32: 'Мурманск',\n",
       " 28: 'Томск',\n",
       " 27: 'Саратов',\n",
       " 25: 'Краснодар',\n",
       " 20: 'Тюмень',\n",
       " 29: 'Владивосток',\n",
       " 30: 'Новосибирск',\n",
       " 33: 'Киров'}"
      ]
     },
     "execution_count": 6,
     "metadata": {},
     "output_type": "execute_result"
    }
   ],
   "source": [
    "stops_raw = pd.read_csv('stops_raw.csv')\n",
    "cities_raw = pd.read_csv('cities_raw.csv')\n",
    "cities_dict = {}\n",
    "cit_id_list = cities_raw['id'].unique()\n",
    "for i in range(len(cit_id_list)):\n",
    "    pair = {cities_raw['id'].iloc[i]:cities_raw['name'].iloc[i]}\n",
    "    cities_dict.update(pair)\n",
    "cities_dict"
   ]
  },
  {
   "cell_type": "code",
   "execution_count": 7,
   "metadata": {},
   "outputs": [],
   "source": [
    "def geojsonize(city_id,path=''):\n",
    "    selection = stops_raw.loc[stops_raw['city_id']==city_id].copy()\n",
    "    selection.drop(selection.columns[[0,2,8,9]],axis=1,inplace=True)\n",
    "    features=[]\n",
    "    for i in range(len(selection)):\n",
    "        id_row = selection['id'].iloc[i]\n",
    "        latitude_row = selection['latitude'].iloc[i]\n",
    "        longitude_row = selection['longitude'].iloc[i]\n",
    "        route_num_row = selection['route_numbers'].iloc[i]\n",
    "        station_name_row = selection['station_name'].iloc[i]\n",
    "        city_id_row = selection['city_id'].iloc[i]\n",
    "        geo_data_row = json.loads(selection['geo_data'].iloc[i].replace(\"'\", '\"'))\n",
    "        geo_type = geo_data_row['type']\n",
    "        geo_coord = geo_data_row['coordinates']\n",
    "        props = {\"id\":str(id_row),\n",
    "                 \"latitude\":str(latitude_row),\n",
    "                 \"longitude\":str(longitude_row),\n",
    "                 \"route_numbers\":str(route_num_row),\n",
    "                 \"station_name\":str(station_name_row),\n",
    "                 \"city_id\":str(city_id_row)}\n",
    "        features.append(Feature(geometry=geo_data_row,properties=props))\n",
    "    feature_collection = FeatureCollection(features)\n",
    "    with open(path+'stops_id='+str(city_id)+'.geojson', 'w',encoding='utf8') as f:\n",
    "        dump(feature_collection, f,ensure_ascii=False)\n",
    "    if len(features)==len(selection):\n",
    "        print('Success')"
   ]
  },
  {
   "cell_type": "code",
   "execution_count": 8,
   "metadata": {},
   "outputs": [
    {
     "name": "stdout",
     "output_type": "stream",
     "text": [
      "Success\n"
     ]
    }
   ],
   "source": [
    "geojsonize(10)"
   ]
  },
  {
   "cell_type": "code",
   "execution_count": null,
   "metadata": {},
   "outputs": [],
   "source": []
  }
 ],
 "metadata": {
  "kernelspec": {
   "display_name": "Python 3",
   "language": "python",
   "name": "python3"
  },
  "language_info": {
   "codemirror_mode": {
    "name": "ipython",
    "version": 3
   },
   "file_extension": ".py",
   "mimetype": "text/x-python",
   "name": "python",
   "nbconvert_exporter": "python",
   "pygments_lexer": "ipython3",
   "version": "3.9.1"
  }
 },
 "nbformat": 4,
 "nbformat_minor": 4
}
